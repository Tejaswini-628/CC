{
  "nbformat": 4,
  "nbformat_minor": 0,
  "metadata": {
    "colab": {
      "provenance": [],
      "authorship_tag": "ABX9TyOjKjdkPwJwiX2VkyPMAsld",
      "include_colab_link": true
    },
    "kernelspec": {
      "name": "python3",
      "display_name": "Python 3"
    },
    "language_info": {
      "name": "python"
    }
  },
  "cells": [
    {
      "cell_type": "markdown",
      "metadata": {
        "id": "view-in-github",
        "colab_type": "text"
      },
      "source": [
        "<a href=\"https://colab.research.google.com/github/Tejaswini-628/CC/blob/main/PCOS.ipynb\" target=\"_parent\"><img src=\"https://colab.research.google.com/assets/colab-badge.svg\" alt=\"Open In Colab\"/></a>"
      ]
    },
    {
      "cell_type": "code",
      "execution_count": 2,
      "metadata": {
        "id": "Pyi91Xqygo7H"
      },
      "outputs": [],
      "source": [
        "import pandas as pd\n",
        "from sklearn.preprocessing import StandardScaler\n",
        "\n",
        "# 1. Load the dataset\n",
        "df = pd.read_csv(\"/content/PCOS_data.csv\")  # Replace with your actual filename\n",
        "\n",
        "# 2. Drop unnecessary columns (like unnamed index or empty columns at the end)\n",
        "df = df.loc[:, ~df.columns.str.contains('^Unnamed')]\n",
        "\n",
        "# 3. Map binary (Y/N) columns to 1 and 0\n",
        "binary_cols = [\n",
        "    'Pregnant(Y/N)', 'Weight gain(Y/N)', 'hair growth(Y/N)', 'Skin darkening (Y/N)',\n",
        "    'Hair loss(Y/N)', 'Pimples(Y/N)', 'Fast food (Y/N)', 'Reg.Exercise(Y/N)'\n",
        "]\n",
        "\n",
        "for col in binary_cols:\n",
        "    if col in df.columns:\n",
        "        df[col] = df[col].map({'Y': 1, 'N': 0})\n",
        "\n",
        "# 4. Map blood group to numerical values as per instructions\n",
        "blood_group_map = {\n",
        "    'A+': 11, 'A-': 12, 'B+': 13, 'B-': 14,\n",
        "    'O+': 15, 'O-': 16, 'AB+': 17, 'AB-': 18\n",
        "}"
      ]
    },
    {
      "cell_type": "code",
      "source": [
        "\n",
        "if 'Blood Group' in df.columns:\n",
        "    df['Blood Group'] = df['Blood Group'].map(blood_group_map)\n",
        "\n",
        "# 5. Convert numeric columns\n",
        "# First, identify numeric columns manually (excluding target column and categorical ones)\n",
        "non_numeric_cols = ['PCOS (Y/N)', 'Blood Group'] + binary_cols\n",
        "numeric_cols = [col for col in df.columns if col not in non_numeric_cols]\n",
        "\n",
        "# Convert to numeric\n",
        "df[numeric_cols] = df[numeric_cols].apply(pd.to_numeric, errors='coerce')\n",
        "\n",
        "# 6. Handle missing values: Fill missing numeric values with median\n",
        "df[numeric_cols] = df[numeric_cols].fillna(df[numeric_cols].median())\n",
        "\n",
        "# 7. Drop rows where the target value is still missing\n",
        "df.dropna(subset=['PCOS (Y/N)'], inplace=True)"
      ],
      "metadata": {
        "id": "W1cBWdoTg5iU"
      },
      "execution_count": 3,
      "outputs": []
    },
    {
      "cell_type": "code",
      "source": [
        "target_col = 'PCOS (Y/N)'\n",
        "X = df.drop(columns=[target_col])\n",
        "y = df[target_col]\n",
        "\n",
        "# 9. Feature scaling\n",
        "scaler = StandardScaler()\n",
        "X_scaled = scaler.fit_transform(X)\n",
        "X_scaled_df = pd.DataFrame(X_scaled, columns=X.columns)\n",
        "\n",
        "# 10. Final check\n",
        "print(\"Final X shape:\", X_scaled_df.shape)\n",
        "print(\"Target y shape:\", y.shape)\n",
        "print(\"Sample of scaled features:\\n\", X_scaled_df.head())"
      ],
      "metadata": {
        "colab": {
          "base_uri": "https://localhost:8080/"
        },
        "id": "nE80lv0Vg8pX",
        "outputId": "b2bd3886-ebae-46e3-e7f0-6452c693a36e"
      },
      "execution_count": 4,
      "outputs": [
        {
          "output_type": "stream",
          "name": "stdout",
          "text": [
            "Final X shape: (541, 43)\n",
            "Target y shape: (541,)\n",
            "Sample of scaled features:\n",
            "      Sl. No  Patient File No.   Age (yrs)  Weight (Kg)  Height(Cm)        BMI  \\\n",
            "0 -1.728852         -1.728852   -0.634606    -1.364770    -0.744005 -1.236018   \n",
            "1 -1.722449         -1.722449    0.845230     0.486731     0.831983  0.146227   \n",
            "2 -1.716046         -1.716046    0.290291     0.831618     1.412610  0.244959   \n",
            "3 -1.709643         -1.709643    1.030210     0.486731    -1.407579  1.331009   \n",
            "4 -1.703240         -1.703240   -1.189545    -0.693147     0.749036 -1.038555   \n",
            "\n",
            "   Blood Group  Pulse rate(bpm)   RR (breaths/min)  Hb(g/dl)  ...  \\\n",
            "0          NaN          1.073680          1.633608 -0.785169  ...   \n",
            "1          NaN          0.169968          0.448119  0.623440  ...   \n",
            "2          NaN         -0.281888         -0.737370  0.738900  ...   \n",
            "3          NaN         -0.281888          0.448119  0.969819  ...   \n",
            "4          NaN         -0.281888         -0.737370 -1.339375  ...   \n",
            "\n",
            "   Pimples(Y/N)  Fast food (Y/N)  Reg.Exercise(Y/N)  BP _Systolic (mmHg)  \\\n",
            "0           NaN              NaN                NaN            -0.631866   \n",
            "1           NaN              NaN                NaN             0.723565   \n",
            "2           NaN              NaN                NaN             0.723565   \n",
            "3           NaN              NaN                NaN             0.723565   \n",
            "4           NaN              NaN                NaN             0.723565   \n",
            "\n",
            "   BP _Diastolic (mmHg)  Follicle No. (L)  Follicle No. (R)  \\\n",
            "0              0.551645         -0.740617         -0.821471   \n",
            "1             -1.244023         -0.740617         -0.370287   \n",
            "2              0.551645          1.626032          1.885630   \n",
            "3             -1.244023         -0.977282         -1.047063   \n",
            "4              0.551645         -0.740617         -0.595879   \n",
            "\n",
            "   Avg. F size (L) (mm)  Avg. F size (R) (mm)  Endometrium (mm)  \n",
            "0              0.836776              0.768537          0.011133  \n",
            "1             -0.005083             -0.437816         -2.207618  \n",
            "2              0.836776              1.371714          0.704493  \n",
            "3             -0.005083             -0.437816         -0.451107  \n",
            "4              0.275536             -0.437816         -0.682227  \n",
            "\n",
            "[5 rows x 43 columns]\n"
          ]
        },
        {
          "output_type": "stream",
          "name": "stderr",
          "text": [
            "/usr/local/lib/python3.11/dist-packages/sklearn/utils/extmath.py:1101: RuntimeWarning: invalid value encountered in divide\n",
            "  updated_mean = (last_sum + new_sum) / updated_sample_count\n",
            "/usr/local/lib/python3.11/dist-packages/sklearn/utils/extmath.py:1106: RuntimeWarning: invalid value encountered in divide\n",
            "  T = new_sum / new_sample_count\n",
            "/usr/local/lib/python3.11/dist-packages/sklearn/utils/extmath.py:1126: RuntimeWarning: invalid value encountered in divide\n",
            "  new_unnormalized_variance -= correction**2 / new_sample_count\n"
          ]
        }
      ]
    },
    {
      "cell_type": "code",
      "source": [
        "# List of binary columns to clean\n",
        "binary_cols = [\n",
        "    'Pregnant(Y/N)', 'Weight gain(Y/N)', 'hair growth(Y/N)',\n",
        "    'Skin darkening (Y/N)', 'Hair loss(Y/N)', 'Pimples(Y/N)',\n",
        "    'Fast food (Y/N)', 'Reg.Exercise(Y/N)'\n",
        "]\n",
        "\n",
        "# Step 1: Clean binary columns (replace Y/N → 1/0)\n",
        "for col in binary_cols:\n",
        "    df[col] = df[col].astype(str).str.strip().str.upper()\n",
        "    df[col] = df[col].replace({'Y': 1, 'N': 0})\n",
        "\n",
        "# Step 2: Clean 'Blood Group' safely\n",
        "df['Blood Group'] = df['Blood Group'].astype(str).str.strip().str.upper()\n",
        "\n",
        "# Step 3: Map valid blood groups\n",
        "blood_group_map = {\n",
        "    'A+': 0, 'A-': 1, 'B+': 2, 'B-': 3,\n",
        "    'AB+': 4, 'AB-': 5, 'O+': 6, 'O-': 7\n",
        "}\n",
        "df['Blood Group'] = df['Blood Group'].map(blood_group_map)\n",
        "\n",
        "# Step 4: Fill any remaining NaNs (numeric only)\n",
        "df = df.fillna(df.median(numeric_only=True))\n",
        "\n",
        "# Optional fallback: fill any object columns that still have NaNs with a default\n",
        "df = df.fillna(0)\n",
        "\n",
        "# ✅ Ready for scaling now!\n"
      ],
      "metadata": {
        "id": "kIbdKWZUhx35"
      },
      "execution_count": 7,
      "outputs": []
    },
    {
      "cell_type": "code",
      "source": [
        "from sklearn.preprocessing import StandardScaler\n",
        "\n",
        "# Drop target column\n",
        "X = df.drop(['PCOS (Y/N)'], axis=1)\n",
        "y = df['PCOS (Y/N)']\n",
        "\n",
        "scaler = StandardScaler()\n",
        "X_scaled = scaler.fit_transform(X)\n",
        "X_scaled_df = pd.DataFrame(X_scaled, columns=X.columns)\n",
        "\n",
        "print(\"Final X shape:\", X_scaled_df.shape)\n",
        "print(\"Target y shape:\", y.shape)\n",
        "print(\"Sample of scaled features:\\n\", X_scaled_df.head())\n"
      ],
      "metadata": {
        "colab": {
          "base_uri": "https://localhost:8080/"
        },
        "id": "O9NszE2fiqKx",
        "outputId": "b6d0a5f1-0c89-4506-e261-a643b8c83eba"
      },
      "execution_count": 8,
      "outputs": [
        {
          "output_type": "stream",
          "name": "stdout",
          "text": [
            "Final X shape: (541, 43)\n",
            "Target y shape: (541,)\n",
            "Sample of scaled features:\n",
            "      Sl. No  Patient File No.   Age (yrs)  Weight (Kg)  Height(Cm)        BMI  \\\n",
            "0 -1.728852         -1.728852   -0.634606    -1.364770    -0.744005 -1.236018   \n",
            "1 -1.722449         -1.722449    0.845230     0.486731     0.831983  0.146227   \n",
            "2 -1.716046         -1.716046    0.290291     0.831618     1.412610  0.244959   \n",
            "3 -1.709643         -1.709643    1.030210     0.486731    -1.407579  1.331009   \n",
            "4 -1.703240         -1.703240   -1.189545    -0.693147     0.749036 -1.038555   \n",
            "\n",
            "   Blood Group  Pulse rate(bpm)   RR (breaths/min)  Hb(g/dl)  ...  \\\n",
            "0          0.0          1.073680          1.633608 -0.785169  ...   \n",
            "1          0.0          0.169968          0.448119  0.623440  ...   \n",
            "2          0.0         -0.281888         -0.737370  0.738900  ...   \n",
            "3          0.0         -0.281888          0.448119  0.969819  ...   \n",
            "4          0.0         -0.281888         -0.737370 -1.339375  ...   \n",
            "\n",
            "   Pimples(Y/N)  Fast food (Y/N)  Reg.Exercise(Y/N)  BP _Systolic (mmHg)  \\\n",
            "0           NaN              NaN                NaN            -0.631866   \n",
            "1           NaN              NaN                NaN             0.723565   \n",
            "2           NaN              NaN                NaN             0.723565   \n",
            "3           NaN              NaN                NaN             0.723565   \n",
            "4           NaN              NaN                NaN             0.723565   \n",
            "\n",
            "   BP _Diastolic (mmHg)  Follicle No. (L)  Follicle No. (R)  \\\n",
            "0              0.551645         -0.740617         -0.821471   \n",
            "1             -1.244023         -0.740617         -0.370287   \n",
            "2              0.551645          1.626032          1.885630   \n",
            "3             -1.244023         -0.977282         -1.047063   \n",
            "4              0.551645         -0.740617         -0.595879   \n",
            "\n",
            "   Avg. F size (L) (mm)  Avg. F size (R) (mm)  Endometrium (mm)  \n",
            "0              0.836776              0.768537          0.011133  \n",
            "1             -0.005083             -0.437816         -2.207618  \n",
            "2              0.836776              1.371714          0.704493  \n",
            "3             -0.005083             -0.437816         -0.451107  \n",
            "4              0.275536             -0.437816         -0.682227  \n",
            "\n",
            "[5 rows x 43 columns]\n"
          ]
        },
        {
          "output_type": "stream",
          "name": "stderr",
          "text": [
            "/usr/local/lib/python3.11/dist-packages/sklearn/utils/extmath.py:1101: RuntimeWarning: invalid value encountered in divide\n",
            "  updated_mean = (last_sum + new_sum) / updated_sample_count\n",
            "/usr/local/lib/python3.11/dist-packages/sklearn/utils/extmath.py:1106: RuntimeWarning: invalid value encountered in divide\n",
            "  T = new_sum / new_sample_count\n",
            "/usr/local/lib/python3.11/dist-packages/sklearn/utils/extmath.py:1126: RuntimeWarning: invalid value encountered in divide\n",
            "  new_unnormalized_variance -= correction**2 / new_sample_count\n"
          ]
        }
      ]
    },
    {
      "cell_type": "code",
      "source": [
        "import numpy as np\n",
        "\n",
        "# Select only numeric columns\n",
        "numeric_df = df.select_dtypes(include=[np.number])\n",
        "\n",
        "# Check for infinite values\n",
        "print(np.isinf(numeric_df).sum())\n",
        "\n",
        "\n"
      ],
      "metadata": {
        "colab": {
          "base_uri": "https://localhost:8080/"
        },
        "id": "ZsBjNz0XjZEo",
        "outputId": "ae6e80c1-647d-4b71-918f-fbaa5daf5989"
      },
      "execution_count": 12,
      "outputs": [
        {
          "output_type": "stream",
          "name": "stdout",
          "text": [
            "Sl. No                    0\n",
            "Patient File No.          0\n",
            "PCOS (Y/N)                0\n",
            " Age (yrs)                0\n",
            "Weight (Kg)               0\n",
            "Height(Cm)                0\n",
            "BMI                       0\n",
            "Blood Group               0\n",
            "Pulse rate(bpm)           0\n",
            "RR (breaths/min)          0\n",
            "Hb(g/dl)                  0\n",
            "Cycle(R/I)                0\n",
            "Cycle length(days)        0\n",
            "Marraige Status (Yrs)     0\n",
            "No. of abortions          0\n",
            "  I   beta-HCG(mIU/mL)    0\n",
            "II    beta-HCG(mIU/mL)    0\n",
            "FSH(mIU/mL)               0\n",
            "LH(mIU/mL)                0\n",
            "FSH/LH                    0\n",
            "Hip(inch)                 0\n",
            "Waist(inch)               0\n",
            "Waist:Hip Ratio           0\n",
            "TSH (mIU/L)               0\n",
            "AMH(ng/mL)                0\n",
            "PRL(ng/mL)                0\n",
            "Vit D3 (ng/mL)            0\n",
            "PRG(ng/mL)                0\n",
            "RBS(mg/dl)                0\n",
            "BP _Systolic (mmHg)       0\n",
            "BP _Diastolic (mmHg)      0\n",
            "Follicle No. (L)          0\n",
            "Follicle No. (R)          0\n",
            "Avg. F size (L) (mm)      0\n",
            "Avg. F size (R) (mm)      0\n",
            "Endometrium (mm)          0\n",
            "dtype: int64\n"
          ]
        }
      ]
    },
    {
      "cell_type": "code",
      "source": [
        "from sklearn.preprocessing import StandardScaler\n",
        "\n",
        "# Drop target column\n",
        "X = df.drop(['PCOS (Y/N)'], axis=1)\n",
        "y = df['PCOS (Y/N)']\n",
        "\n",
        "scaler = StandardScaler()\n",
        "X_scaled = scaler.fit_transform(X)\n",
        "X_scaled_df = pd.DataFrame(X_scaled, columns=X.columns)\n",
        "\n",
        "print(\"Final X shape:\", X_scaled_df.shape)\n",
        "print(\"Target y shape:\", y.shape)\n",
        "print(\"Sample of scaled features:\\n\", X_scaled_df.head())\n",
        "\n"
      ],
      "metadata": {
        "colab": {
          "base_uri": "https://localhost:8080/"
        },
        "id": "2wuLPE9fmpff",
        "outputId": "22633889-b7ef-46e8-9285-6870886d2b1b"
      },
      "execution_count": 13,
      "outputs": [
        {
          "output_type": "stream",
          "name": "stdout",
          "text": [
            "Final X shape: (541, 43)\n",
            "Target y shape: (541,)\n",
            "Sample of scaled features:\n",
            "      Sl. No  Patient File No.   Age (yrs)  Weight (Kg)  Height(Cm)        BMI  \\\n",
            "0 -1.728852         -1.728852   -0.634606    -1.364770    -0.744005 -1.236018   \n",
            "1 -1.722449         -1.722449    0.845230     0.486731     0.831983  0.146227   \n",
            "2 -1.716046         -1.716046    0.290291     0.831618     1.412610  0.244959   \n",
            "3 -1.709643         -1.709643    1.030210     0.486731    -1.407579  1.331009   \n",
            "4 -1.703240         -1.703240   -1.189545    -0.693147     0.749036 -1.038555   \n",
            "\n",
            "   Blood Group  Pulse rate(bpm)   RR (breaths/min)  Hb(g/dl)  ...  \\\n",
            "0          0.0          1.073680          1.633608 -0.785169  ...   \n",
            "1          0.0          0.169968          0.448119  0.623440  ...   \n",
            "2          0.0         -0.281888         -0.737370  0.738900  ...   \n",
            "3          0.0         -0.281888          0.448119  0.969819  ...   \n",
            "4          0.0         -0.281888         -0.737370 -1.339375  ...   \n",
            "\n",
            "   Pimples(Y/N)  Fast food (Y/N)  Reg.Exercise(Y/N)  BP _Systolic (mmHg)  \\\n",
            "0           NaN              NaN                NaN            -0.631866   \n",
            "1           NaN              NaN                NaN             0.723565   \n",
            "2           NaN              NaN                NaN             0.723565   \n",
            "3           NaN              NaN                NaN             0.723565   \n",
            "4           NaN              NaN                NaN             0.723565   \n",
            "\n",
            "   BP _Diastolic (mmHg)  Follicle No. (L)  Follicle No. (R)  \\\n",
            "0              0.551645         -0.740617         -0.821471   \n",
            "1             -1.244023         -0.740617         -0.370287   \n",
            "2              0.551645          1.626032          1.885630   \n",
            "3             -1.244023         -0.977282         -1.047063   \n",
            "4              0.551645         -0.740617         -0.595879   \n",
            "\n",
            "   Avg. F size (L) (mm)  Avg. F size (R) (mm)  Endometrium (mm)  \n",
            "0              0.836776              0.768537          0.011133  \n",
            "1             -0.005083             -0.437816         -2.207618  \n",
            "2              0.836776              1.371714          0.704493  \n",
            "3             -0.005083             -0.437816         -0.451107  \n",
            "4              0.275536             -0.437816         -0.682227  \n",
            "\n",
            "[5 rows x 43 columns]\n"
          ]
        },
        {
          "output_type": "stream",
          "name": "stderr",
          "text": [
            "/usr/local/lib/python3.11/dist-packages/sklearn/utils/extmath.py:1101: RuntimeWarning: invalid value encountered in divide\n",
            "  updated_mean = (last_sum + new_sum) / updated_sample_count\n",
            "/usr/local/lib/python3.11/dist-packages/sklearn/utils/extmath.py:1106: RuntimeWarning: invalid value encountered in divide\n",
            "  T = new_sum / new_sample_count\n",
            "/usr/local/lib/python3.11/dist-packages/sklearn/utils/extmath.py:1126: RuntimeWarning: invalid value encountered in divide\n",
            "  new_unnormalized_variance -= correction**2 / new_sample_count\n"
          ]
        }
      ]
    },
    {
      "cell_type": "code",
      "source": [
        "import numpy as np\n",
        "import pandas as pd\n",
        "from sklearn.preprocessing import StandardScaler\n",
        "\n",
        "# Separate features and target\n",
        "X = df.drop(['PCOS (Y/N)'], axis=1)\n",
        "y = df['PCOS (Y/N)']\n",
        "\n",
        "# Select numeric columns only to check for infinities\n",
        "numeric_X = X.select_dtypes(include=[np.number])\n",
        "\n",
        "# Replace infinite values with NaN in numeric columns\n",
        "numeric_X = numeric_X.replace([np.inf, -np.inf], np.nan)\n",
        "\n",
        "# Fill NaNs with column means\n",
        "numeric_X = numeric_X.fillna(numeric_X.mean())\n",
        "\n",
        "# If your dataset has non-numeric columns, you can either:\n",
        "# 1) drop them:\n",
        "# X_clean = numeric_X\n",
        "# 2) or handle them separately (encoding etc) if needed\n",
        "\n",
        "# Now scale numeric data\n",
        "scaler = StandardScaler()\n",
        "X_scaled = scaler.fit_transform(numeric_X)\n",
        "\n",
        "# Convert back to DataFrame\n",
        "X_scaled_df = pd.DataFrame(X_scaled, columns=numeric_X.columns)\n",
        "\n",
        "print(\"Final X shape:\", X_scaled_df.shape)\n",
        "print(\"Target y shape:\", y.shape)\n",
        "print(\"Sample of scaled features:\\n\", X_scaled_df.head())\n"
      ],
      "metadata": {
        "colab": {
          "base_uri": "https://localhost:8080/"
        },
        "id": "tOxZSW7-m47v",
        "outputId": "ba94f6ce-7557-4a53-c6a1-7f80a172fcd1"
      },
      "execution_count": 15,
      "outputs": [
        {
          "output_type": "stream",
          "name": "stdout",
          "text": [
            "Final X shape: (541, 35)\n",
            "Target y shape: (541,)\n",
            "Sample of scaled features:\n",
            "      Sl. No  Patient File No.   Age (yrs)  Weight (Kg)  Height(Cm)        BMI  \\\n",
            "0 -1.728852         -1.728852   -0.634606    -1.364770    -0.744005 -1.236018   \n",
            "1 -1.722449         -1.722449    0.845230     0.486731     0.831983  0.146227   \n",
            "2 -1.716046         -1.716046    0.290291     0.831618     1.412610  0.244959   \n",
            "3 -1.709643         -1.709643    1.030210     0.486731    -1.407579  1.331009   \n",
            "4 -1.703240         -1.703240   -1.189545    -0.693147     0.749036 -1.038555   \n",
            "\n",
            "   Blood Group  Pulse rate(bpm)   RR (breaths/min)  Hb(g/dl)  ...  \\\n",
            "0          0.0          1.073680          1.633608 -0.785169  ...   \n",
            "1          0.0          0.169968          0.448119  0.623440  ...   \n",
            "2          0.0         -0.281888         -0.737370  0.738900  ...   \n",
            "3          0.0         -0.281888          0.448119  0.969819  ...   \n",
            "4          0.0         -0.281888         -0.737370 -1.339375  ...   \n",
            "\n",
            "   Vit D3 (ng/mL)  PRG(ng/mL)  RBS(mg/dl)  BP _Systolic (mmHg)  \\\n",
            "0       -0.094875   -0.010760   -0.422597            -0.631866   \n",
            "1        0.032913    0.094356   -0.422597             0.723565   \n",
            "2       -0.000624   -0.065946   -0.854047             0.723565   \n",
            "3       -0.047749   -0.065946   -1.285497             0.723565   \n",
            "4       -0.017682   -0.060690   -0.854047             0.723565   \n",
            "\n",
            "   BP _Diastolic (mmHg)  Follicle No. (L)  Follicle No. (R)  \\\n",
            "0              0.551645         -0.740617         -0.821471   \n",
            "1             -1.244023         -0.740617         -0.370287   \n",
            "2              0.551645          1.626032          1.885630   \n",
            "3             -1.244023         -0.977282         -1.047063   \n",
            "4              0.551645         -0.740617         -0.595879   \n",
            "\n",
            "   Avg. F size (L) (mm)  Avg. F size (R) (mm)  Endometrium (mm)  \n",
            "0              0.836776              0.768537          0.011133  \n",
            "1             -0.005083             -0.437816         -2.207618  \n",
            "2              0.836776              1.371714          0.704493  \n",
            "3             -0.005083             -0.437816         -0.451107  \n",
            "4              0.275536             -0.437816         -0.682227  \n",
            "\n",
            "[5 rows x 35 columns]\n"
          ]
        }
      ]
    },
    {
      "cell_type": "code",
      "source": [
        "from sklearn.model_selection import train_test_split\n",
        "\n",
        "X_train, X_test, y_train, y_test = train_test_split(X_scaled_df, y, test_size=0.2, random_state=42)\n"
      ],
      "metadata": {
        "id": "0GSBDvpQqX_v"
      },
      "execution_count": 16,
      "outputs": []
    },
    {
      "cell_type": "code",
      "source": [
        "from sklearn.linear_model import LogisticRegression\n",
        "from sklearn.metrics import accuracy_score, classification_report\n",
        "model = LogisticRegression()\n",
        "model.fit(X_train, y_train)  # Train the model\n",
        "y_pred = model.predict(X_test)\n",
        "\n",
        "print(\"Accuracy:\", accuracy_score(y_test, y_pred))\n",
        "print(\"Report:\\n\", classification_report(y_test, y_pred))\n"
      ],
      "metadata": {
        "colab": {
          "base_uri": "https://localhost:8080/"
        },
        "id": "cwTZJ1NgqfvH",
        "outputId": "f43f63f2-0f66-4d04-f10a-f9b89028d65f"
      },
      "execution_count": 17,
      "outputs": [
        {
          "output_type": "stream",
          "name": "stdout",
          "text": [
            "Accuracy: 0.8165137614678899\n",
            "Report:\n",
            "               precision    recall  f1-score   support\n",
            "\n",
            "           0       0.87      0.87      0.87        77\n",
            "           1       0.69      0.69      0.69        32\n",
            "\n",
            "    accuracy                           0.82       109\n",
            "   macro avg       0.78      0.78      0.78       109\n",
            "weighted avg       0.82      0.82      0.82       109\n",
            "\n"
          ]
        }
      ]
    },
    {
      "cell_type": "code",
      "source": [
        "from sklearn.model_selection import train_test_split\n",
        "from sklearn.linear_model import LogisticRegression\n",
        "from sklearn.ensemble import RandomForestClassifier\n",
        "from sklearn.tree import DecisionTreeClassifier\n",
        "from sklearn.svm import SVC\n",
        "from sklearn.neighbors import KNeighborsClassifier\n",
        "from sklearn.metrics import accuracy_score, classification_report\n",
        "\n",
        "# Split the data\n",
        "X_train, X_test, y_train, y_test = train_test_split(X_scaled_df, y, test_size=0.2, random_state=42)\n",
        "\n",
        "# Store models in a dictionary\n",
        "models = {\n",
        "    \"Logistic Regression\": LogisticRegression(max_iter=1000),\n",
        "    \"Random Forest\": RandomForestClassifier(random_state=42),\n",
        "    \"Decision Tree\": DecisionTreeClassifier(random_state=42),\n",
        "    \"SVM\": SVC(),\n",
        "    \"KNN\": KNeighborsClassifier()\n",
        "}\n",
        "\n",
        "# Train, predict, and evaluate each model\n",
        "for name, model in models.items():\n",
        "    print(f\"\\n=== {name} ===\")\n",
        "    model.fit(X_train, y_train)\n",
        "    y_pred = model.predict(X_test)\n",
        "    acc = accuracy_score(y_test, y_pred)\n",
        "    print(\"Accuracy:\", acc)\n",
        "    print(\"Classification Report:\\n\", classification_report(y_test, y_pred))\n"
      ],
      "metadata": {
        "colab": {
          "base_uri": "https://localhost:8080/"
        },
        "id": "p_pYTF7Zq8ty",
        "outputId": "8402529a-7313-4ec3-f2b7-caa17f25da1c"
      },
      "execution_count": 18,
      "outputs": [
        {
          "output_type": "stream",
          "name": "stdout",
          "text": [
            "\n",
            "=== Logistic Regression ===\n",
            "Accuracy: 0.8165137614678899\n",
            "Classification Report:\n",
            "               precision    recall  f1-score   support\n",
            "\n",
            "           0       0.87      0.87      0.87        77\n",
            "           1       0.69      0.69      0.69        32\n",
            "\n",
            "    accuracy                           0.82       109\n",
            "   macro avg       0.78      0.78      0.78       109\n",
            "weighted avg       0.82      0.82      0.82       109\n",
            "\n",
            "\n",
            "=== Random Forest ===\n",
            "Accuracy: 0.8073394495412844\n",
            "Classification Report:\n",
            "               precision    recall  f1-score   support\n",
            "\n",
            "           0       0.87      0.86      0.86        77\n",
            "           1       0.67      0.69      0.68        32\n",
            "\n",
            "    accuracy                           0.81       109\n",
            "   macro avg       0.77      0.77      0.77       109\n",
            "weighted avg       0.81      0.81      0.81       109\n",
            "\n",
            "\n",
            "=== Decision Tree ===\n",
            "Accuracy: 0.7431192660550459\n",
            "Classification Report:\n",
            "               precision    recall  f1-score   support\n",
            "\n",
            "           0       0.81      0.83      0.82        77\n",
            "           1       0.57      0.53      0.55        32\n",
            "\n",
            "    accuracy                           0.74       109\n",
            "   macro avg       0.69      0.68      0.68       109\n",
            "weighted avg       0.74      0.74      0.74       109\n",
            "\n",
            "\n",
            "=== SVM ===\n",
            "Accuracy: 0.8165137614678899\n",
            "Classification Report:\n",
            "               precision    recall  f1-score   support\n",
            "\n",
            "           0       0.85      0.90      0.87        77\n",
            "           1       0.71      0.62      0.67        32\n",
            "\n",
            "    accuracy                           0.82       109\n",
            "   macro avg       0.78      0.76      0.77       109\n",
            "weighted avg       0.81      0.82      0.81       109\n",
            "\n",
            "\n",
            "=== KNN ===\n",
            "Accuracy: 0.7889908256880734\n",
            "Classification Report:\n",
            "               precision    recall  f1-score   support\n",
            "\n",
            "           0       0.80      0.94      0.86        77\n",
            "           1       0.74      0.44      0.55        32\n",
            "\n",
            "    accuracy                           0.79       109\n",
            "   macro avg       0.77      0.69      0.71       109\n",
            "weighted avg       0.78      0.79      0.77       109\n",
            "\n"
          ]
        }
      ]
    },
    {
      "cell_type": "code",
      "source": [
        "import pandas as pd\n",
        "import numpy as np\n",
        "\n",
        "def calc_woe_iv(df, feature, target, bins=10):\n",
        "    \"\"\"\n",
        "    Calculate Weight of Evidence (WoE) and Information Value (IV) for a feature.\n",
        "\n",
        "    Parameters:\n",
        "    - df: DataFrame containing the data\n",
        "    - feature: feature column name (string)\n",
        "    - target: target column name (string, binary 0/1)\n",
        "    - bins: number of bins for numeric features\n",
        "\n",
        "    Returns:\n",
        "    - iv: Information Value\n",
        "    - woe_df: DataFrame with WoE values per bin/category\n",
        "    \"\"\"\n",
        "    df_temp = df[[feature, target]].copy()\n",
        "\n",
        "    # If numeric, bin it\n",
        "    if pd.api.types.is_numeric_dtype(df_temp[feature]):\n",
        "        df_temp['bin'] = pd.qcut(df_temp[feature], q=bins, duplicates='drop')\n",
        "    else:\n",
        "        df_temp['bin'] = df_temp[feature]\n",
        "\n",
        "    grouped = df_temp.groupby('bin', observed=True)\n",
        "\n",
        "\n",
        "    # Calculate distributions\n",
        "    stats = grouped[target].agg(['count', 'sum'])\n",
        "    stats.columns = ['total', 'bad']\n",
        "    stats['good'] = stats['total'] - stats['bad']\n",
        "\n",
        "    # Avoid division by zero\n",
        "    stats['bad_rate'] = stats['bad'] / stats['bad'].sum()\n",
        "    stats['good_rate'] = stats['good'] / stats['good'].sum()\n",
        "\n",
        "    # Replace 0 to avoid inf\n",
        "    stats['bad_rate'] = stats['bad_rate'].replace(0, 0.0001)\n",
        "    stats['good_rate'] = stats['good_rate'].replace(0, 0.0001)\n",
        "\n",
        "    # Calculate WoE and IV\n",
        "    stats['woe'] = np.log(stats['good_rate'] / stats['bad_rate'])\n",
        "    stats['iv'] = (stats['good_rate'] - stats['bad_rate']) * stats['woe']\n",
        "\n",
        "    iv = stats['iv'].sum()\n",
        "\n",
        "    return iv, stats[['woe']]\n",
        "\n",
        "# Example usage:\n",
        "target_col = 'PCOS (Y/N)'\n",
        "features = [col for col in df.columns if col != target_col]\n",
        "\n",
        "iv_values = {}\n",
        "for f in features:\n",
        "    iv, woe = calc_woe_iv(df, f, target_col, bins=5)\n",
        "    iv_values[f] = iv\n",
        "\n",
        "# Sort features by IV descending\n",
        "iv_series = pd.Series(iv_values).sort_values(ascending=False)\n",
        "print(\"Top features by Information Value:\\n\", iv_series.head(10))\n"
      ],
      "metadata": {
        "colab": {
          "base_uri": "https://localhost:8080/"
        },
        "id": "mDG4UJJuu643",
        "outputId": "85238e8d-d9f2-4ea2-a343-aa78aa3a6cc1"
      },
      "execution_count": 23,
      "outputs": [
        {
          "output_type": "stream",
          "name": "stdout",
          "text": [
            "Top features by Information Value:\n",
            " Follicle No. (R)      2.645977\n",
            "Follicle No. (L)      2.023581\n",
            "Cycle length(days)    0.738764\n",
            "AMH(ng/mL)            0.388061\n",
            "BMI                   0.264009\n",
            "Waist(inch)           0.223550\n",
            "Weight (Kg)           0.217502\n",
            "Hip(inch)             0.196004\n",
            "PRL(ng/mL)            0.152740\n",
            " Age (yrs)            0.143560\n",
            "dtype: float64\n"
          ]
        }
      ]
    },
    {
      "cell_type": "code",
      "source": [
        "import pandas as pd\n",
        "from sklearn.model_selection import train_test_split\n",
        "from sklearn.ensemble import RandomForestClassifier\n",
        "from sklearn.preprocessing import StandardScaler\n",
        "from sklearn.metrics import accuracy_score, classification_report, confusion_matrix\n",
        "import joblib  # For saving the model\n",
        "\n",
        "# Assuming df is your dataframe and these are your features and target\n",
        "top_features = ['Follicle No. (R)', 'Follicle No. (L)', 'Cycle length(days)', 'AMH(ng/mL)', 'BMI']\n",
        "target_column = 'PCOS (Y/N)'  # Replace with your actual target column name if different\n",
        "\n",
        "# Select features and target\n",
        "X = df[top_features]\n",
        "y = df[target_column]\n",
        "\n",
        "# Handle missing values if any (simple approach: drop)\n",
        "X = X.dropna()\n",
        "y = y.loc[X.index]\n",
        "\n",
        "# Split dataset\n",
        "X_train, X_test, y_train, y_test = train_test_split(X, y, test_size=0.2, random_state=42)\n",
        "\n",
        "# Scale features (optional but recommended)\n",
        "scaler = StandardScaler()\n",
        "X_train_scaled = scaler.fit_transform(X_train)\n",
        "X_test_scaled = scaler.transform(X_test)\n",
        "\n",
        "# Train Random Forest\n",
        "model = RandomForestClassifier(random_state=42, n_estimators=100)\n",
        "model.fit(X_train_scaled, y_train)\n",
        "\n",
        "# Predict and evaluate\n",
        "y_train_pred = model.predict(X_train_scaled)\n",
        "y_test_pred = model.predict(X_test_scaled)\n",
        "\n",
        "print(\"Train Accuracy:\", accuracy_score(y_train, y_train_pred))\n",
        "print(\"Test Accuracy:\", accuracy_score(y_test, y_test_pred))\n",
        "print(\"Classification Report:\\n\", classification_report(y_test, y_test_pred))\n",
        "print(\"Confusion Matrix:\\n\", confusion_matrix(y_test, y_test_pred))\n",
        "\n",
        "# Save the trained model and scaler for deployment\n",
        "joblib.dump(model, \"random_forest_pcos_model.pkl\")\n",
        "joblib.dump(scaler, \"scaler.pkl\")\n"
      ],
      "metadata": {
        "colab": {
          "base_uri": "https://localhost:8080/"
        },
        "id": "jZqBvPJC1x87",
        "outputId": "6ebe3356-6e6c-490d-f114-89266110f97e"
      },
      "execution_count": 30,
      "outputs": [
        {
          "output_type": "stream",
          "name": "stdout",
          "text": [
            "Train Accuracy: 0.9953703703703703\n",
            "Test Accuracy: 0.8348623853211009\n",
            "Classification Report:\n",
            "               precision    recall  f1-score   support\n",
            "\n",
            "           0       0.88      0.88      0.88        77\n",
            "           1       0.72      0.72      0.72        32\n",
            "\n",
            "    accuracy                           0.83       109\n",
            "   macro avg       0.80      0.80      0.80       109\n",
            "weighted avg       0.83      0.83      0.83       109\n",
            "\n",
            "Confusion Matrix:\n",
            " [[68  9]\n",
            " [ 9 23]]\n"
          ]
        },
        {
          "output_type": "execute_result",
          "data": {
            "text/plain": [
              "['scaler.pkl']"
            ]
          },
          "metadata": {},
          "execution_count": 30
        }
      ]
    },
    {
      "cell_type": "code",
      "source": [
        "import pandas as pd\n",
        "from sklearn.model_selection import train_test_split\n",
        "from sklearn.preprocessing import StandardScaler\n",
        "from sklearn.linear_model import LogisticRegression\n",
        "from sklearn.ensemble import RandomForestClassifier\n",
        "from sklearn.svm import SVC\n",
        "from sklearn.neighbors import KNeighborsClassifier\n",
        "from sklearn.tree import DecisionTreeClassifier\n",
        "from sklearn.metrics import accuracy_score\n",
        "import matplotlib.pyplot as plt\n",
        "\n",
        "# Your 5 selected features and target column\n",
        "top_features = ['Follicle No. (R)', 'Follicle No. (L)', 'Cycle length(days)', 'AMH(ng/mL)', 'BMI']\n",
        "target_column = 'PCOS (Y/N)'\n",
        "\n",
        "# Prepare data\n",
        "X = df[top_features].dropna()\n",
        "y = df[target_column].loc[X.index]\n",
        "\n",
        "# Split data\n",
        "X_train, X_test, y_train, y_test = train_test_split(X, y, test_size=0.2, random_state=42)\n",
        "\n",
        "# Scale features\n",
        "scaler = StandardScaler()\n",
        "X_train_scaled = scaler.fit_transform(X_train)\n",
        "X_test_scaled = scaler.transform(X_test)\n",
        "\n",
        "# Models to compare (including Decision Tree)\n",
        "models = {\n",
        "    \"Logistic Regression\": LogisticRegression(max_iter=1000, random_state=42),\n",
        "    \"Random Forest\": RandomForestClassifier(n_estimators=100, random_state=42),\n",
        "    \"Decision Tree\": DecisionTreeClassifier(random_state=42),\n",
        "    \"SVM (RBF kernel)\": SVC(kernel='rbf', random_state=42),\n",
        "    \"K-Nearest Neighbors\": KNeighborsClassifier()\n",
        "}\n",
        "\n",
        "train_accuracies = []\n",
        "test_accuracies = []\n",
        "\n",
        "for name, model in models.items():\n",
        "    model.fit(X_train_scaled, y_train)\n",
        "    train_pred = model.predict(X_train_scaled)\n",
        "    test_pred = model.predict(X_test_scaled)\n",
        "    train_acc = accuracy_score(y_train, train_pred)\n",
        "    test_acc = accuracy_score(y_test, test_pred)\n",
        "    train_accuracies.append(train_acc)\n",
        "    test_accuracies.append(test_acc)\n",
        "    print(f\"{name}:\\n  Train Accuracy: {train_acc:.4f}\\n  Test Accuracy: {test_acc:.4f}\\n\")\n",
        "\n",
        "# Plotting results\n",
        "x = range(len(models))\n",
        "plt.figure(figsize=(11,6))\n",
        "plt.bar(x, train_accuracies, width=0.4, label='Train Accuracy', align='center')\n",
        "plt.bar(x, test_accuracies, width=0.4, label='Test Accuracy', align='edge')\n",
        "plt.xticks(x, list(models.keys()), rotation=20)\n",
        "plt.ylim(0,1)\n",
        "plt.ylabel(\"Accuracy\")\n",
        "plt.title(\"Train vs Test Accuracy for Different Models (Including Decision Tree)\")\n",
        "plt.legend()\n",
        "plt.grid(axis='y')\n",
        "plt.show()\n"
      ],
      "metadata": {
        "colab": {
          "base_uri": "https://localhost:8080/",
          "height": 939
        },
        "id": "2uOBnlcr2TbG",
        "outputId": "20dc2632-53ac-4dd9-eed1-62b4a72bc328"
      },
      "execution_count": 31,
      "outputs": [
        {
          "output_type": "stream",
          "name": "stdout",
          "text": [
            "Logistic Regression:\n",
            "  Train Accuracy: 0.8611\n",
            "  Test Accuracy: 0.8073\n",
            "\n",
            "Random Forest:\n",
            "  Train Accuracy: 0.9954\n",
            "  Test Accuracy: 0.8349\n",
            "\n",
            "Decision Tree:\n",
            "  Train Accuracy: 0.9954\n",
            "  Test Accuracy: 0.7431\n",
            "\n",
            "SVM (RBF kernel):\n",
            "  Train Accuracy: 0.9028\n",
            "  Test Accuracy: 0.8165\n",
            "\n",
            "K-Nearest Neighbors:\n",
            "  Train Accuracy: 0.8773\n",
            "  Test Accuracy: 0.7798\n",
            "\n"
          ]
        },
        {
          "output_type": "display_data",
          "data": {
            "text/plain": [
              "<Figure size 1100x600 with 1 Axes>"
            ],
            "image/png": "[encoded data removed]"
          },
          "metadata": {}
        }
      ]
    }
  ]
}